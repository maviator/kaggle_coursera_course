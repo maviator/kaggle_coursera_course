{
 "cells": [
  {
   "cell_type": "code",
   "execution_count": 1,
   "metadata": {
    "collapsed": true
   },
   "outputs": [],
   "source": [
    "%store -r __importRegression"
   ]
  },
  {
   "cell_type": "code",
   "execution_count": 2,
   "metadata": {
    "collapsed": false
   },
   "outputs": [
    {
     "name": "stderr",
     "output_type": "stream",
     "text": [
      "/home/maviator/anaconda2/lib/python2.7/site-packages/sklearn/cross_validation.py:44: DeprecationWarning: This module was deprecated in version 0.18 in favor of the model_selection module into which all the refactored classes and functions are moved. Also note that the interface of the new CV iterators are different from that of this module. This module will be removed in 0.20.\n",
      "  \"This module will be removed in 0.20.\", DeprecationWarning)\n"
     ]
    }
   ],
   "source": [
    "__importRegression"
   ]
  },
  {
   "cell_type": "code",
   "execution_count": 3,
   "metadata": {
    "collapsed": true
   },
   "outputs": [],
   "source": [
    "from itertools import product\n",
    "from sklearn.linear_model import LinearRegression\n",
    "import gc"
   ]
  },
  {
   "cell_type": "code",
   "execution_count": 4,
   "metadata": {
    "collapsed": false
   },
   "outputs": [],
   "source": [
    "#sales = pd.read_csv('../input/train.csv')\n",
    "#all_data = pd.read_csv('all_data.csv')\n",
    "all_data = pd.read_csv('../input/all_data_1_2_3_4_5_12_cat.csv')\n",
    "test = pd.read_csv('../input/test_1_2_3_4_5_12_cat.csv')\n",
    "#test = pd.read_csv('../input/test.csv')\n",
    "#items = pd.read_csv(\"../input/items.csv\")\n",
    "#categories = pd.read_csv(\"../input/item_categories.csv\")\n",
    "#print (sales.shape)"
   ]
  },
  {
   "cell_type": "code",
   "execution_count": 5,
   "metadata": {
    "collapsed": true
   },
   "outputs": [],
   "source": [
    "def reduce_mem_usage(props):\n",
    "    start_mem_usg = props.memory_usage().sum() / 1024**2 \n",
    "    print(\"Memory usage of properties dataframe is :\",start_mem_usg,\" MB\")\n",
    "    NAlist = [] # Keeps track of columns that have missing values filled in. \n",
    "    for col in props.columns:\n",
    "        if props[col].dtype != object:  # Exclude strings\n",
    "            \n",
    "            # Print current column type\n",
    "            print(\"******************************\")\n",
    "            print(\"Column: \",col)\n",
    "            print(\"dtype before: \",props[col].dtype)\n",
    "            \n",
    "            # make variables for Int, max and min\n",
    "            IsInt = False\n",
    "            mx = props[col].max()\n",
    "            mn = props[col].min()\n",
    "            \n",
    "            # Integer does not support NA, therefore, NA needs to be filled\n",
    "            if not np.isfinite(props[col]).all(): \n",
    "                NAlist.append(col)\n",
    "                props[col].fillna(mn-1,inplace=True)  \n",
    "                   \n",
    "            # test if column can be converted to an integer\n",
    "            asint = props[col].fillna(0).astype(np.int64)\n",
    "            result = (props[col] - asint)\n",
    "            result = result.sum()\n",
    "            if result > -0.01 and result < 0.01:\n",
    "                IsInt = True\n",
    "\n",
    "            \n",
    "            # Make Integer/unsigned Integer datatypes\n",
    "            if IsInt:\n",
    "                if mn >= 0:\n",
    "                    if mx < 255:\n",
    "                        props[col] = props[col].astype(np.uint8)\n",
    "                    elif mx < 65535:\n",
    "                        props[col] = props[col].astype(np.uint16)\n",
    "                    elif mx < 4294967295:\n",
    "                        props[col] = props[col].astype(np.uint32)\n",
    "                    else:\n",
    "                        props[col] = props[col].astype(np.uint64)\n",
    "                else:\n",
    "                    if mn > np.iinfo(np.int8).min and mx < np.iinfo(np.int8).max:\n",
    "                        props[col] = props[col].astype(np.int8)\n",
    "                    elif mn > np.iinfo(np.int16).min and mx < np.iinfo(np.int16).max:\n",
    "                        props[col] = props[col].astype(np.int16)\n",
    "                    elif mn > np.iinfo(np.int32).min and mx < np.iinfo(np.int32).max:\n",
    "                        props[col] = props[col].astype(np.int32)\n",
    "                    elif mn > np.iinfo(np.int64).min and mx < np.iinfo(np.int64).max:\n",
    "                        props[col] = props[col].astype(np.int64)    \n",
    "            \n",
    "            # Make float datatypes 32 bit\n",
    "            else:\n",
    "                props[col] = props[col].astype(np.float32)\n",
    "            \n",
    "            # Print new column type\n",
    "            print(\"dtype after: \",props[col].dtype)\n",
    "            print(\"******************************\")\n",
    "    \n",
    "    # Print final result\n",
    "    print(\"___MEMORY USAGE AFTER COMPLETION:___\")\n",
    "    mem_usg = props.memory_usage().sum() / 1024**2 \n",
    "    print(\"Memory usage is: \",mem_usg,\" MB\")\n",
    "    print(\"This is \",100*mem_usg/start_mem_usg,\"% of the initial size\")\n",
    "    return props, NAlist"
   ]
  },
  {
   "cell_type": "code",
   "execution_count": 6,
   "metadata": {
    "collapsed": true
   },
   "outputs": [],
   "source": [
    "# Add date_block_num for test with value 34 (next month)\n",
    "test['date_block_num'] = 34"
   ]
  },
  {
   "cell_type": "code",
   "execution_count": 7,
   "metadata": {
    "collapsed": false
   },
   "outputs": [
    {
     "name": "stdout",
     "output_type": "stream",
     "text": [
      "('Memory usage of properties dataframe is :', 2081, ' MB')\n",
      "******************************\n",
      "('Column: ', 'shop_id')\n",
      "('dtype before: ', dtype('int64'))\n",
      "('dtype after: ', dtype('uint8'))\n",
      "******************************\n",
      "******************************\n",
      "('Column: ', 'item_id')\n",
      "('dtype before: ', dtype('int64'))\n",
      "('dtype after: ', dtype('uint16'))\n",
      "******************************\n",
      "******************************\n",
      "('Column: ', 'date_block_num')\n",
      "('dtype before: ', dtype('int64'))\n",
      "('dtype after: ', dtype('uint8'))\n",
      "******************************\n",
      "******************************\n",
      "('Column: ', 'target')\n",
      "('dtype before: ', dtype('int64'))\n",
      "('dtype after: ', dtype('int16'))\n",
      "******************************\n",
      "******************************\n",
      "('Column: ', 'target_shop')\n",
      "('dtype before: ', dtype('int64'))\n",
      "('dtype after: ', dtype('int16'))\n",
      "******************************\n",
      "******************************\n",
      "('Column: ', 'target_item')\n",
      "('dtype before: ', dtype('int64'))\n",
      "('dtype after: ', dtype('int16'))\n",
      "******************************\n",
      "******************************\n",
      "('Column: ', 'target_lag_1')\n",
      "('dtype before: ', dtype('int64'))\n",
      "('dtype after: ', dtype('int16'))\n",
      "******************************\n",
      "******************************\n",
      "('Column: ', 'target_item_lag_1')\n",
      "('dtype before: ', dtype('int64'))\n",
      "('dtype after: ', dtype('int16'))\n",
      "******************************\n",
      "******************************\n",
      "('Column: ', 'target_shop_lag_1')\n",
      "('dtype before: ', dtype('int64'))\n",
      "('dtype after: ', dtype('uint16'))\n",
      "******************************\n",
      "******************************\n",
      "('Column: ', 'target_lag_2')\n",
      "('dtype before: ', dtype('int64'))\n",
      "('dtype after: ', dtype('int16'))\n",
      "******************************\n",
      "******************************\n",
      "('Column: ', 'target_item_lag_2')\n",
      "('dtype before: ', dtype('int64'))\n",
      "('dtype after: ', dtype('int16'))\n",
      "******************************\n",
      "******************************\n",
      "('Column: ', 'target_shop_lag_2')\n",
      "('dtype before: ', dtype('int64'))\n",
      "('dtype after: ', dtype('uint16'))\n",
      "******************************\n",
      "******************************\n",
      "('Column: ', 'target_lag_3')\n",
      "('dtype before: ', dtype('int64'))\n",
      "('dtype after: ', dtype('int16'))\n",
      "******************************\n",
      "******************************\n",
      "('Column: ', 'target_item_lag_3')\n",
      "('dtype before: ', dtype('int64'))\n",
      "('dtype after: ', dtype('int16'))\n",
      "******************************\n",
      "******************************\n",
      "('Column: ', 'target_shop_lag_3')\n",
      "('dtype before: ', dtype('int64'))\n",
      "('dtype after: ', dtype('uint16'))\n",
      "******************************\n",
      "******************************\n",
      "('Column: ', 'target_lag_12')\n",
      "('dtype before: ', dtype('int64'))\n",
      "('dtype after: ', dtype('int16'))\n",
      "******************************\n",
      "******************************\n",
      "('Column: ', 'target_item_lag_12')\n",
      "('dtype before: ', dtype('int64'))\n",
      "('dtype after: ', dtype('int16'))\n",
      "******************************\n",
      "******************************\n",
      "('Column: ', 'target_shop_lag_12')\n",
      "('dtype before: ', dtype('int64'))\n",
      "('dtype after: ', dtype('uint16'))\n",
      "******************************\n",
      "******************************\n",
      "('Column: ', 'item_category_id')\n",
      "('dtype before: ', dtype('int64'))\n",
      "('dtype after: ', dtype('uint8'))\n",
      "******************************\n",
      "******************************\n",
      "('Column: ', 'target_lag_4')\n",
      "('dtype before: ', dtype('int64'))\n",
      "('dtype after: ', dtype('int16'))\n",
      "******************************\n",
      "******************************\n",
      "('Column: ', 'target_item_lag_4')\n",
      "('dtype before: ', dtype('int64'))\n",
      "('dtype after: ', dtype('int16'))\n",
      "******************************\n",
      "******************************\n",
      "('Column: ', 'target_shop_lag_4')\n",
      "('dtype before: ', dtype('int64'))\n",
      "('dtype after: ', dtype('uint16'))\n",
      "******************************\n",
      "******************************\n",
      "('Column: ', 'target_lag_5')\n",
      "('dtype before: ', dtype('int64'))\n",
      "('dtype after: ', dtype('int16'))\n",
      "******************************\n",
      "******************************\n",
      "('Column: ', 'target_item_lag_5')\n",
      "('dtype before: ', dtype('int64'))\n",
      "('dtype after: ', dtype('int16'))\n",
      "******************************\n",
      "******************************\n",
      "('Column: ', 'target_shop_lag_5')\n",
      "('dtype before: ', dtype('int64'))\n",
      "('dtype after: ', dtype('uint16'))\n",
      "******************************\n",
      "___MEMORY USAGE AFTER COMPLETION:___\n",
      "('Memory usage is: ', 489, ' MB')\n",
      "('This is ', 23, '% of the initial size')\n"
     ]
    }
   ],
   "source": [
    "all_data, NAs = reduce_mem_usage(all_data)"
   ]
  },
  {
   "cell_type": "code",
   "execution_count": 8,
   "metadata": {
    "collapsed": false
   },
   "outputs": [
    {
     "name": "stdout",
     "output_type": "stream",
     "text": [
      "('Memory usage of properties dataframe is :', 37, ' MB')\n",
      "******************************\n",
      "('Column: ', 'ID')\n",
      "('dtype before: ', dtype('int64'))\n",
      "('dtype after: ', dtype('uint32'))\n",
      "******************************\n",
      "******************************\n",
      "('Column: ', 'shop_id')\n",
      "('dtype before: ', dtype('int64'))\n",
      "('dtype after: ', dtype('uint8'))\n",
      "******************************\n",
      "******************************\n",
      "('Column: ', 'item_id')\n",
      "('dtype before: ', dtype('int64'))\n",
      "('dtype after: ', dtype('uint16'))\n",
      "******************************\n",
      "******************************\n",
      "('Column: ', 'date_block_num')\n",
      "('dtype before: ', dtype('int64'))\n",
      "('dtype after: ', dtype('uint8'))\n",
      "******************************\n",
      "******************************\n",
      "('Column: ', 'target_lag_1')\n",
      "('dtype before: ', dtype('int64'))\n",
      "('dtype after: ', dtype('int16'))\n",
      "******************************\n",
      "******************************\n",
      "('Column: ', 'target_item_lag_1')\n",
      "('dtype before: ', dtype('int64'))\n",
      "('dtype after: ', dtype('uint16'))\n",
      "******************************\n",
      "******************************\n",
      "('Column: ', 'target_shop_lag_1')\n",
      "('dtype before: ', dtype('int64'))\n",
      "('dtype after: ', dtype('uint16'))\n",
      "******************************\n",
      "******************************\n",
      "('Column: ', 'target_lag_2')\n",
      "('dtype before: ', dtype('int64'))\n",
      "('dtype after: ', dtype('int16'))\n",
      "******************************\n",
      "******************************\n",
      "('Column: ', 'target_item_lag_2')\n",
      "('dtype before: ', dtype('int64'))\n",
      "('dtype after: ', dtype('uint16'))\n",
      "******************************\n",
      "******************************\n",
      "('Column: ', 'target_shop_lag_2')\n",
      "('dtype before: ', dtype('int64'))\n",
      "('dtype after: ', dtype('uint16'))\n",
      "******************************\n",
      "******************************\n",
      "('Column: ', 'target_lag_3')\n",
      "('dtype before: ', dtype('int64'))\n",
      "('dtype after: ', dtype('int16'))\n",
      "******************************\n",
      "******************************\n",
      "('Column: ', 'target_item_lag_3')\n",
      "('dtype before: ', dtype('int64'))\n",
      "('dtype after: ', dtype('int16'))\n",
      "******************************\n",
      "******************************\n",
      "('Column: ', 'target_shop_lag_3')\n",
      "('dtype before: ', dtype('int64'))\n",
      "('dtype after: ', dtype('uint16'))\n",
      "******************************\n",
      "******************************\n",
      "('Column: ', 'target_lag_12')\n",
      "('dtype before: ', dtype('int64'))\n",
      "('dtype after: ', dtype('int16'))\n",
      "******************************\n",
      "******************************\n",
      "('Column: ', 'target_item_lag_12')\n",
      "('dtype before: ', dtype('int64'))\n",
      "('dtype after: ', dtype('uint16'))\n",
      "******************************\n",
      "******************************\n",
      "('Column: ', 'target_shop_lag_12')\n",
      "('dtype before: ', dtype('int64'))\n",
      "('dtype after: ', dtype('uint16'))\n",
      "******************************\n",
      "******************************\n",
      "('Column: ', 'item_category_id')\n",
      "('dtype before: ', dtype('int64'))\n",
      "('dtype after: ', dtype('uint8'))\n",
      "******************************\n",
      "******************************\n",
      "('Column: ', 'target_lag_4')\n",
      "('dtype before: ', dtype('int64'))\n",
      "('dtype after: ', dtype('int16'))\n",
      "******************************\n",
      "******************************\n",
      "('Column: ', 'target_item_lag_4')\n",
      "('dtype before: ', dtype('int64'))\n",
      "('dtype after: ', dtype('int16'))\n",
      "******************************\n",
      "******************************\n",
      "('Column: ', 'target_shop_lag_4')\n",
      "('dtype before: ', dtype('int64'))\n",
      "('dtype after: ', dtype('uint16'))\n",
      "******************************\n",
      "******************************\n",
      "('Column: ', 'target_lag_5')\n",
      "('dtype before: ', dtype('int64'))\n",
      "('dtype after: ', dtype('int16'))\n",
      "******************************\n",
      "******************************\n",
      "('Column: ', 'target_item_lag_5')\n",
      "('dtype before: ', dtype('int64'))\n",
      "('dtype after: ', dtype('int16'))\n",
      "******************************\n",
      "******************************\n",
      "('Column: ', 'target_shop_lag_5')\n",
      "('dtype before: ', dtype('int64'))\n",
      "('dtype after: ', dtype('uint16'))\n",
      "******************************\n",
      "___MEMORY USAGE AFTER COMPLETION:___\n",
      "('Memory usage is: ', 9, ' MB')\n",
      "('This is ', 24, '% of the initial size')\n"
     ]
    }
   ],
   "source": [
    "test, NAs = reduce_mem_usage(test)"
   ]
  },
  {
   "cell_type": "code",
   "execution_count": 9,
   "metadata": {
    "collapsed": true
   },
   "outputs": [],
   "source": [
    "index_cols = ['shop_id', 'item_id', 'date_block_num']"
   ]
  },
  {
   "cell_type": "code",
   "execution_count": 10,
   "metadata": {
    "collapsed": false
   },
   "outputs": [
    {
     "data": {
      "text/html": [
       "<div>\n",
       "<table border=\"1\" class=\"dataframe\">\n",
       "  <thead>\n",
       "    <tr style=\"text-align: right;\">\n",
       "      <th></th>\n",
       "      <th>shop_id</th>\n",
       "      <th>item_id</th>\n",
       "      <th>date_block_num</th>\n",
       "      <th>target</th>\n",
       "      <th>target_shop</th>\n",
       "      <th>target_item</th>\n",
       "      <th>target_lag_1</th>\n",
       "      <th>target_item_lag_1</th>\n",
       "      <th>target_shop_lag_1</th>\n",
       "      <th>target_lag_2</th>\n",
       "      <th>...</th>\n",
       "      <th>target_lag_12</th>\n",
       "      <th>target_item_lag_12</th>\n",
       "      <th>target_shop_lag_12</th>\n",
       "      <th>item_category_id</th>\n",
       "      <th>target_lag_4</th>\n",
       "      <th>target_item_lag_4</th>\n",
       "      <th>target_shop_lag_4</th>\n",
       "      <th>target_lag_5</th>\n",
       "      <th>target_item_lag_5</th>\n",
       "      <th>target_shop_lag_5</th>\n",
       "    </tr>\n",
       "  </thead>\n",
       "  <tbody>\n",
       "    <tr>\n",
       "      <th>0</th>\n",
       "      <td>0</td>\n",
       "      <td>19</td>\n",
       "      <td>0</td>\n",
       "      <td>0</td>\n",
       "      <td>5578</td>\n",
       "      <td>1</td>\n",
       "      <td>0</td>\n",
       "      <td>0</td>\n",
       "      <td>0</td>\n",
       "      <td>0</td>\n",
       "      <td>...</td>\n",
       "      <td>0</td>\n",
       "      <td>0</td>\n",
       "      <td>0</td>\n",
       "      <td>40</td>\n",
       "      <td>0</td>\n",
       "      <td>0</td>\n",
       "      <td>0</td>\n",
       "      <td>0</td>\n",
       "      <td>0</td>\n",
       "      <td>0</td>\n",
       "    </tr>\n",
       "    <tr>\n",
       "      <th>1</th>\n",
       "      <td>0</td>\n",
       "      <td>27</td>\n",
       "      <td>0</td>\n",
       "      <td>0</td>\n",
       "      <td>5578</td>\n",
       "      <td>7</td>\n",
       "      <td>0</td>\n",
       "      <td>0</td>\n",
       "      <td>0</td>\n",
       "      <td>0</td>\n",
       "      <td>...</td>\n",
       "      <td>0</td>\n",
       "      <td>0</td>\n",
       "      <td>0</td>\n",
       "      <td>19</td>\n",
       "      <td>0</td>\n",
       "      <td>0</td>\n",
       "      <td>0</td>\n",
       "      <td>0</td>\n",
       "      <td>0</td>\n",
       "      <td>0</td>\n",
       "    </tr>\n",
       "    <tr>\n",
       "      <th>2</th>\n",
       "      <td>0</td>\n",
       "      <td>28</td>\n",
       "      <td>0</td>\n",
       "      <td>0</td>\n",
       "      <td>5578</td>\n",
       "      <td>8</td>\n",
       "      <td>0</td>\n",
       "      <td>0</td>\n",
       "      <td>0</td>\n",
       "      <td>0</td>\n",
       "      <td>...</td>\n",
       "      <td>0</td>\n",
       "      <td>0</td>\n",
       "      <td>0</td>\n",
       "      <td>30</td>\n",
       "      <td>0</td>\n",
       "      <td>0</td>\n",
       "      <td>0</td>\n",
       "      <td>0</td>\n",
       "      <td>0</td>\n",
       "      <td>0</td>\n",
       "    </tr>\n",
       "    <tr>\n",
       "      <th>3</th>\n",
       "      <td>0</td>\n",
       "      <td>29</td>\n",
       "      <td>0</td>\n",
       "      <td>0</td>\n",
       "      <td>5578</td>\n",
       "      <td>4</td>\n",
       "      <td>0</td>\n",
       "      <td>0</td>\n",
       "      <td>0</td>\n",
       "      <td>0</td>\n",
       "      <td>...</td>\n",
       "      <td>0</td>\n",
       "      <td>0</td>\n",
       "      <td>0</td>\n",
       "      <td>23</td>\n",
       "      <td>0</td>\n",
       "      <td>0</td>\n",
       "      <td>0</td>\n",
       "      <td>0</td>\n",
       "      <td>0</td>\n",
       "      <td>0</td>\n",
       "    </tr>\n",
       "    <tr>\n",
       "      <th>4</th>\n",
       "      <td>0</td>\n",
       "      <td>32</td>\n",
       "      <td>0</td>\n",
       "      <td>6</td>\n",
       "      <td>5578</td>\n",
       "      <td>299</td>\n",
       "      <td>0</td>\n",
       "      <td>0</td>\n",
       "      <td>0</td>\n",
       "      <td>0</td>\n",
       "      <td>...</td>\n",
       "      <td>0</td>\n",
       "      <td>0</td>\n",
       "      <td>0</td>\n",
       "      <td>40</td>\n",
       "      <td>0</td>\n",
       "      <td>0</td>\n",
       "      <td>0</td>\n",
       "      <td>0</td>\n",
       "      <td>0</td>\n",
       "      <td>0</td>\n",
       "    </tr>\n",
       "  </tbody>\n",
       "</table>\n",
       "<p>5 rows × 25 columns</p>\n",
       "</div>"
      ],
      "text/plain": [
       "   shop_id  item_id  date_block_num  target  target_shop  target_item  \\\n",
       "0        0       19               0       0         5578            1   \n",
       "1        0       27               0       0         5578            7   \n",
       "2        0       28               0       0         5578            8   \n",
       "3        0       29               0       0         5578            4   \n",
       "4        0       32               0       6         5578          299   \n",
       "\n",
       "   target_lag_1  target_item_lag_1  target_shop_lag_1  target_lag_2  \\\n",
       "0             0                  0                  0             0   \n",
       "1             0                  0                  0             0   \n",
       "2             0                  0                  0             0   \n",
       "3             0                  0                  0             0   \n",
       "4             0                  0                  0             0   \n",
       "\n",
       "         ...          target_lag_12  target_item_lag_12  target_shop_lag_12  \\\n",
       "0        ...                      0                   0                   0   \n",
       "1        ...                      0                   0                   0   \n",
       "2        ...                      0                   0                   0   \n",
       "3        ...                      0                   0                   0   \n",
       "4        ...                      0                   0                   0   \n",
       "\n",
       "   item_category_id  target_lag_4  target_item_lag_4  target_shop_lag_4  \\\n",
       "0                40             0                  0                  0   \n",
       "1                19             0                  0                  0   \n",
       "2                30             0                  0                  0   \n",
       "3                23             0                  0                  0   \n",
       "4                40             0                  0                  0   \n",
       "\n",
       "   target_lag_5  target_item_lag_5  target_shop_lag_5  \n",
       "0             0                  0                  0  \n",
       "1             0                  0                  0  \n",
       "2             0                  0                  0  \n",
       "3             0                  0                  0  \n",
       "4             0                  0                  0  \n",
       "\n",
       "[5 rows x 25 columns]"
      ]
     },
     "execution_count": 10,
     "metadata": {},
     "output_type": "execute_result"
    }
   ],
   "source": [
    "all_data.head()"
   ]
  },
  {
   "cell_type": "code",
   "execution_count": null,
   "metadata": {
    "collapsed": false
   },
   "outputs": [],
   "source": [
    "all_data.target.plot()"
   ]
  },
  {
   "cell_type": "code",
   "execution_count": null,
   "metadata": {
    "collapsed": false
   },
   "outputs": [],
   "source": [
    "all_data.target.describe()"
   ]
  },
  {
   "cell_type": "code",
   "execution_count": null,
   "metadata": {
    "collapsed": false
   },
   "outputs": [],
   "source": [
    "\n",
    "# For every month we create a grid from all shops/items combinations from that month\n",
    "grid = [] \n",
    "for block_num in sales['date_block_num'].unique():\n",
    "    cur_shops = sales[sales['date_block_num']==block_num]['shop_id'].unique()\n",
    "    cur_items = sales[sales['date_block_num']==block_num]['item_id'].unique()\n",
    "    grid.append(np.array(list(product(*[cur_shops, cur_items, [block_num]])),dtype='int32'))\n",
    "\n",
    "#turn the grid into pandas dataframe\n",
    "grid = pd.DataFrame(np.vstack(grid), columns = index_cols,dtype=np.int32)\n",
    "\n",
    "#get aggregated values for (shop_id, item_id, month)\n",
    "gb = sales.groupby(index_cols,as_index=False).agg({'item_cnt_day':{'target':'sum'}})\n",
    "#fix column names\n",
    "gb.columns = [col[0] if col[-1]=='' else col[-1] for col in gb.columns.values]\n",
    "#join aggregated data to the grid\n",
    "all_data = pd.merge(grid,gb,how='left',on=index_cols).fillna(0)\n",
    "\n",
    "# Same as above but with shop-month aggregates\n",
    "gb = sales.groupby(['shop_id', 'date_block_num'],as_index=False).agg({'item_cnt_day':{'target_shop':'sum'}})\n",
    "gb.columns = [col[0] if col[-1]=='' else col[-1] for col in gb.columns.values]\n",
    "all_data = pd.merge(all_data, gb, how='left', on=['shop_id', 'date_block_num']).fillna(0)\n",
    "\n",
    "# Same as above but with item-month aggregates\n",
    "gb = sales.groupby(['item_id', 'date_block_num'],as_index=False).agg({'item_cnt_day':{'target_item':'sum'}})\n",
    "gb.columns = [col[0] if col[-1] == '' else col[-1] for col in gb.columns.values]\n",
    "all_data = pd.merge(all_data, gb, how='left', on=['item_id', 'date_block_num']).fillna(0)\n",
    "\n",
    "#sort the data\n",
    "all_data.sort_values(['date_block_num','shop_id','item_id'],inplace=True)"
   ]
  },
  {
   "cell_type": "code",
   "execution_count": null,
   "metadata": {
    "collapsed": false
   },
   "outputs": [],
   "source": [
    "all_data, NAS = reduce_mem_usage(all_data)\n",
    "\n",
    "del grid, gb \n",
    "gc.collect();"
   ]
  },
  {
   "cell_type": "code",
   "execution_count": null,
   "metadata": {
    "collapsed": false
   },
   "outputs": [],
   "source": [
    "all_data.head()"
   ]
  },
  {
   "cell_type": "code",
   "execution_count": null,
   "metadata": {
    "collapsed": true
   },
   "outputs": [],
   "source": [
    "all_data.to_csv('all_data.csv', index=False)"
   ]
  },
  {
   "cell_type": "code",
   "execution_count": null,
   "metadata": {
    "collapsed": false
   },
   "outputs": [],
   "source": [
    "# List of columns that we will use to create lags\n",
    "cols_to_rename = list(all_data.columns.difference(index_cols))"
   ]
  },
  {
   "cell_type": "code",
   "execution_count": null,
   "metadata": {
    "collapsed": false
   },
   "outputs": [],
   "source": [
    "cols_to_rename"
   ]
  },
  {
   "cell_type": "code",
   "execution_count": null,
   "metadata": {
    "collapsed": true
   },
   "outputs": [],
   "source": [
    "cols_to_rename = ['target', 'target_item', 'target_shop']"
   ]
  },
  {
   "cell_type": "code",
   "execution_count": 11,
   "metadata": {
    "collapsed": true
   },
   "outputs": [],
   "source": [
    "# lag months: 1 = last month sales; 12 = last year same month sales\n",
    "shift_range = [1, 2, 3, 4, 5, 12]"
   ]
  },
  {
   "cell_type": "code",
   "execution_count": null,
   "metadata": {
    "collapsed": false
   },
   "outputs": [],
   "source": [
    "from tqdm import tqdm_notebook"
   ]
  },
  {
   "cell_type": "code",
   "execution_count": null,
   "metadata": {
    "collapsed": false
   },
   "outputs": [],
   "source": [
    "for month_shift in tqdm_notebook(shift_range):\n",
    "    train_shift = all_data[index_cols + cols_to_rename].copy()\n",
    "    \n",
    "    train_shift['date_block_num'] = train_shift['date_block_num'] + month_shift\n",
    "    \n",
    "    \n",
    "    \n",
    "    foo = lambda x: '{}_lag_{}'.format(x, month_shift) if x in cols_to_rename else x\n",
    "    train_shift = train_shift.rename(columns=foo)\n",
    "    \n",
    "    # Merge lag feature with train data\n",
    "    all_data = pd.merge(all_data, train_shift, on=index_cols, how='left').fillna(0)\n",
    "    \n",
    "    # Merge lag feature with test data\n",
    "    test = pd.merge(test, train_shift, on=index_cols, how='left').fillna(0)\n",
    "    \n",
    "del train_shift\n",
    "gc.collect();"
   ]
  },
  {
   "cell_type": "code",
   "execution_count": null,
   "metadata": {
    "collapsed": false
   },
   "outputs": [],
   "source": [
    "items = pd.read_csv(\"../input/items.csv\")\n",
    "#items, NAs = reduce_mem_usage(items)\n",
    "print items.shape"
   ]
  },
  {
   "cell_type": "code",
   "execution_count": null,
   "metadata": {
    "collapsed": false
   },
   "outputs": [],
   "source": [
    "items.head()"
   ]
  },
  {
   "cell_type": "code",
   "execution_count": null,
   "metadata": {
    "collapsed": true
   },
   "outputs": [],
   "source": [
    "# Category for each item\n",
    "item_category_mapping = items[['item_id','item_category_id']].drop_duplicates()\n",
    "\n",
    "all_data = pd.merge(all_data, item_category_mapping, how='left', on='item_id')\n",
    "\n",
    "test = pd.merge(test, item_category_mapping, how='left', on='item_id')"
   ]
  },
  {
   "cell_type": "code",
   "execution_count": 12,
   "metadata": {
    "collapsed": false
   },
   "outputs": [
    {
     "data": {
      "text/html": [
       "<div>\n",
       "<table border=\"1\" class=\"dataframe\">\n",
       "  <thead>\n",
       "    <tr style=\"text-align: right;\">\n",
       "      <th></th>\n",
       "      <th>ID</th>\n",
       "      <th>shop_id</th>\n",
       "      <th>item_id</th>\n",
       "      <th>date_block_num</th>\n",
       "      <th>target_lag_1</th>\n",
       "      <th>target_item_lag_1</th>\n",
       "      <th>target_shop_lag_1</th>\n",
       "      <th>target_lag_2</th>\n",
       "      <th>target_item_lag_2</th>\n",
       "      <th>target_shop_lag_2</th>\n",
       "      <th>...</th>\n",
       "      <th>target_lag_12</th>\n",
       "      <th>target_item_lag_12</th>\n",
       "      <th>target_shop_lag_12</th>\n",
       "      <th>item_category_id</th>\n",
       "      <th>target_lag_4</th>\n",
       "      <th>target_item_lag_4</th>\n",
       "      <th>target_shop_lag_4</th>\n",
       "      <th>target_lag_5</th>\n",
       "      <th>target_item_lag_5</th>\n",
       "      <th>target_shop_lag_5</th>\n",
       "    </tr>\n",
       "  </thead>\n",
       "  <tbody>\n",
       "    <tr>\n",
       "      <th>0</th>\n",
       "      <td>0</td>\n",
       "      <td>5</td>\n",
       "      <td>5037</td>\n",
       "      <td>34</td>\n",
       "      <td>0</td>\n",
       "      <td>25</td>\n",
       "      <td>1052</td>\n",
       "      <td>1</td>\n",
       "      <td>110</td>\n",
       "      <td>1092</td>\n",
       "      <td>...</td>\n",
       "      <td>1</td>\n",
       "      <td>65</td>\n",
       "      <td>1445</td>\n",
       "      <td>19</td>\n",
       "      <td>1</td>\n",
       "      <td>54</td>\n",
       "      <td>991</td>\n",
       "      <td>1</td>\n",
       "      <td>105</td>\n",
       "      <td>954</td>\n",
       "    </tr>\n",
       "    <tr>\n",
       "      <th>1</th>\n",
       "      <td>1</td>\n",
       "      <td>5</td>\n",
       "      <td>5320</td>\n",
       "      <td>34</td>\n",
       "      <td>0</td>\n",
       "      <td>0</td>\n",
       "      <td>0</td>\n",
       "      <td>0</td>\n",
       "      <td>0</td>\n",
       "      <td>0</td>\n",
       "      <td>...</td>\n",
       "      <td>0</td>\n",
       "      <td>0</td>\n",
       "      <td>0</td>\n",
       "      <td>55</td>\n",
       "      <td>0</td>\n",
       "      <td>0</td>\n",
       "      <td>0</td>\n",
       "      <td>0</td>\n",
       "      <td>0</td>\n",
       "      <td>0</td>\n",
       "    </tr>\n",
       "    <tr>\n",
       "      <th>2</th>\n",
       "      <td>2</td>\n",
       "      <td>5</td>\n",
       "      <td>5233</td>\n",
       "      <td>34</td>\n",
       "      <td>1</td>\n",
       "      <td>42</td>\n",
       "      <td>1052</td>\n",
       "      <td>3</td>\n",
       "      <td>80</td>\n",
       "      <td>1092</td>\n",
       "      <td>...</td>\n",
       "      <td>0</td>\n",
       "      <td>0</td>\n",
       "      <td>0</td>\n",
       "      <td>19</td>\n",
       "      <td>0</td>\n",
       "      <td>37</td>\n",
       "      <td>991</td>\n",
       "      <td>2</td>\n",
       "      <td>119</td>\n",
       "      <td>954</td>\n",
       "    </tr>\n",
       "    <tr>\n",
       "      <th>3</th>\n",
       "      <td>3</td>\n",
       "      <td>5</td>\n",
       "      <td>5232</td>\n",
       "      <td>34</td>\n",
       "      <td>0</td>\n",
       "      <td>28</td>\n",
       "      <td>1052</td>\n",
       "      <td>0</td>\n",
       "      <td>48</td>\n",
       "      <td>1092</td>\n",
       "      <td>...</td>\n",
       "      <td>0</td>\n",
       "      <td>0</td>\n",
       "      <td>0</td>\n",
       "      <td>23</td>\n",
       "      <td>0</td>\n",
       "      <td>0</td>\n",
       "      <td>0</td>\n",
       "      <td>0</td>\n",
       "      <td>0</td>\n",
       "      <td>0</td>\n",
       "    </tr>\n",
       "    <tr>\n",
       "      <th>4</th>\n",
       "      <td>4</td>\n",
       "      <td>5</td>\n",
       "      <td>5268</td>\n",
       "      <td>34</td>\n",
       "      <td>0</td>\n",
       "      <td>0</td>\n",
       "      <td>0</td>\n",
       "      <td>0</td>\n",
       "      <td>0</td>\n",
       "      <td>0</td>\n",
       "      <td>...</td>\n",
       "      <td>0</td>\n",
       "      <td>0</td>\n",
       "      <td>0</td>\n",
       "      <td>20</td>\n",
       "      <td>0</td>\n",
       "      <td>0</td>\n",
       "      <td>0</td>\n",
       "      <td>0</td>\n",
       "      <td>0</td>\n",
       "      <td>0</td>\n",
       "    </tr>\n",
       "  </tbody>\n",
       "</table>\n",
       "<p>5 rows × 23 columns</p>\n",
       "</div>"
      ],
      "text/plain": [
       "   ID  shop_id  item_id  date_block_num  target_lag_1  target_item_lag_1  \\\n",
       "0   0        5     5037              34             0                 25   \n",
       "1   1        5     5320              34             0                  0   \n",
       "2   2        5     5233              34             1                 42   \n",
       "3   3        5     5232              34             0                 28   \n",
       "4   4        5     5268              34             0                  0   \n",
       "\n",
       "   target_shop_lag_1  target_lag_2  target_item_lag_2  target_shop_lag_2  \\\n",
       "0               1052             1                110               1092   \n",
       "1                  0             0                  0                  0   \n",
       "2               1052             3                 80               1092   \n",
       "3               1052             0                 48               1092   \n",
       "4                  0             0                  0                  0   \n",
       "\n",
       "         ...          target_lag_12  target_item_lag_12  target_shop_lag_12  \\\n",
       "0        ...                      1                  65                1445   \n",
       "1        ...                      0                   0                   0   \n",
       "2        ...                      0                   0                   0   \n",
       "3        ...                      0                   0                   0   \n",
       "4        ...                      0                   0                   0   \n",
       "\n",
       "   item_category_id  target_lag_4  target_item_lag_4  target_shop_lag_4  \\\n",
       "0                19             1                 54                991   \n",
       "1                55             0                  0                  0   \n",
       "2                19             0                 37                991   \n",
       "3                23             0                  0                  0   \n",
       "4                20             0                  0                  0   \n",
       "\n",
       "   target_lag_5  target_item_lag_5  target_shop_lag_5  \n",
       "0             1                105                954  \n",
       "1             0                  0                  0  \n",
       "2             2                119                954  \n",
       "3             0                  0                  0  \n",
       "4             0                  0                  0  \n",
       "\n",
       "[5 rows x 23 columns]"
      ]
     },
     "execution_count": 12,
     "metadata": {},
     "output_type": "execute_result"
    }
   ],
   "source": [
    "test.head()"
   ]
  },
  {
   "cell_type": "code",
   "execution_count": null,
   "metadata": {
    "collapsed": false
   },
   "outputs": [],
   "source": [
    "test, NAs = reduce_mem_usage(test)"
   ]
  },
  {
   "cell_type": "code",
   "execution_count": null,
   "metadata": {
    "collapsed": true
   },
   "outputs": [],
   "source": [
    "test.to_csv('../input/test_1_2_3_4_5_12_cat.csv', index=False)"
   ]
  },
  {
   "cell_type": "code",
   "execution_count": null,
   "metadata": {
    "collapsed": false
   },
   "outputs": [],
   "source": [
    "all_data, NAs = reduce_mem_usage(all_data)"
   ]
  },
  {
   "cell_type": "code",
   "execution_count": null,
   "metadata": {
    "collapsed": true
   },
   "outputs": [],
   "source": [
    "all_data.to_csv('../input/all_data_1_2_3_4_5_12_cat.csv', index=False)"
   ]
  },
  {
   "cell_type": "code",
   "execution_count": 13,
   "metadata": {
    "collapsed": false
   },
   "outputs": [],
   "source": [
    "## Add lag feature differences (feature interaction)\n",
    "for i in [2,3,4,5]:\n",
    "    fname = '_lag' + str(i-1) + '_lag' + str(i)\n",
    "    lag1 = '_lag_' + str(i-1)\n",
    "    lag2 = '_lag_' + str(i)\n",
    "    all_data['target' + fname] = all_data['target' + lag1] - all_data['target' + lag2]\n",
    "    test['target' + fname] = test['target' + lag1] - test['target' + lag2]\n",
    "    all_data['target_item' + fname] = all_data['target_item' + lag1] - all_data['target_item' + lag2]\n",
    "    test['target_item' + fname] = test['target_item' + lag1] - test['target_item' + lag2]\n",
    "    all_data['target_shop' + fname] = all_data['target_shop' + lag1] - all_data['target_shop' + lag2]\n",
    "    test['target_shop' + fname] = test['target_shop' + lag1] - test['target_shop' + lag2]"
   ]
  },
  {
   "cell_type": "code",
   "execution_count": 14,
   "metadata": {
    "collapsed": false
   },
   "outputs": [
    {
     "name": "stdout",
     "output_type": "stream",
     "text": [
      "((10913850, 37), (214200, 35))\n"
     ]
    }
   ],
   "source": [
    "print (all_data.shape, test.shape)"
   ]
  },
  {
   "cell_type": "code",
   "execution_count": 15,
   "metadata": {
    "collapsed": false
   },
   "outputs": [
    {
     "name": "stdout",
     "output_type": "stream",
     "text": [
      "['target_lag_1', 'target_item_lag_1', 'target_shop_lag_1', 'target_lag_2', 'target_item_lag_2', 'target_shop_lag_2', 'target_lag_3', 'target_item_lag_3', 'target_shop_lag_3', 'target_lag_12', 'target_item_lag_12', 'target_shop_lag_12', 'target_lag_4', 'target_item_lag_4', 'target_shop_lag_4', 'target_lag_5', 'target_item_lag_5', 'target_shop_lag_5', 'target_lag1_lag2', 'target_item_lag1_lag2', 'target_shop_lag1_lag2', 'target_lag2_lag3', 'target_item_lag2_lag3', 'target_shop_lag2_lag3', 'target_lag3_lag4', 'target_item_lag3_lag4', 'target_shop_lag3_lag4', 'target_lag4_lag5', 'target_item_lag4_lag5', 'target_shop_lag4_lag5', 'item_category_id']\n",
      "['target_item', 'target_shop', 'target', 'date_block_num']\n"
     ]
    }
   ],
   "source": [
    "# List of all lagged features\n",
    "fit_cols = [col for col in all_data.columns if col[-1] in [str(item) for item in shift_range]] \n",
    "fit_cols.append('item_category_id')\n",
    "# We will drop these at fitting stage\n",
    "to_drop_cols = list(set(list(all_data.columns)) - (set(fit_cols)|set(index_cols))) + ['date_block_num'] \n",
    "\n",
    "print fit_cols\n",
    "print to_drop_cols"
   ]
  },
  {
   "cell_type": "code",
   "execution_count": 16,
   "metadata": {
    "collapsed": true
   },
   "outputs": [],
   "source": [
    "# Drop data from 2013\n",
    "all_data = all_data[all_data.date_block_num >= 12]"
   ]
  },
  {
   "cell_type": "code",
   "execution_count": null,
   "metadata": {
    "collapsed": false
   },
   "outputs": [],
   "source": [
    "all_data, NAs = reduce_mem_usage(all_data)"
   ]
  },
  {
   "cell_type": "markdown",
   "metadata": {},
   "source": [
    "## SVD"
   ]
  },
  {
   "cell_type": "code",
   "execution_count": null,
   "metadata": {
    "collapsed": true
   },
   "outputs": [],
   "source": [
    "from sklearn.preprocessing import StandardScaler"
   ]
  },
  {
   "cell_type": "code",
   "execution_count": null,
   "metadata": {
    "collapsed": false
   },
   "outputs": [],
   "source": [
    "X = all_data.drop(to_drop_cols, axis=1)"
   ]
  },
  {
   "cell_type": "code",
   "execution_count": null,
   "metadata": {
    "collapsed": false
   },
   "outputs": [],
   "source": [
    "X.head()"
   ]
  },
  {
   "cell_type": "code",
   "execution_count": null,
   "metadata": {
    "collapsed": true
   },
   "outputs": [],
   "source": [
    "## Standardize the data\n",
    "X_std = StandardScaler().fit_transform(X)"
   ]
  },
  {
   "cell_type": "code",
   "execution_count": null,
   "metadata": {
    "collapsed": false
   },
   "outputs": [],
   "source": [
    "## Get Covariance matrix\n",
    "\n",
    "cov_mat = np.cov(X_std.T)\n",
    "print('Covariance matrix shape', cov_mat.shape)"
   ]
  },
  {
   "cell_type": "code",
   "execution_count": null,
   "metadata": {
    "collapsed": true
   },
   "outputs": [],
   "source": [
    "## Getting eigen vectors and eigen values\n",
    "eig_vals, eig_vecs = np.linalg.eig(cov_mat)"
   ]
  },
  {
   "cell_type": "code",
   "execution_count": null,
   "metadata": {
    "collapsed": false
   },
   "outputs": [],
   "source": [
    "print('\\nEigenvalues \\n%s' %eig_vals)"
   ]
  },
  {
   "cell_type": "code",
   "execution_count": null,
   "metadata": {
    "collapsed": false
   },
   "outputs": [],
   "source": [
    "## Making sure eigen vectors have a norm of 1\n",
    "for ev in eig_vecs:\n",
    "    np.testing.assert_array_almost_equal(1.0, np.linalg.norm(ev))\n",
    "print('Everything ok!')"
   ]
  },
  {
   "cell_type": "code",
   "execution_count": null,
   "metadata": {
    "collapsed": false
   },
   "outputs": [],
   "source": [
    "# Make a list of (eigenvalue, eigenvector) tuples\n",
    "eig_pairs = [(np.abs(eig_vals[i]), eig_vecs[:,i]) for i in range(len(eig_vals))]\n",
    "\n",
    "# Sort the (eigenvalue, eigenvector) tuples from high to low\n",
    "eig_pairs.sort()\n",
    "eig_pairs.reverse()\n",
    "\n",
    "# Visually confirm that the list is correctly sorted by decreasing eigenvalues\n",
    "print('Eigenvalues in descending order:')\n",
    "for i in eig_pairs:\n",
    "    print(i[0])"
   ]
  },
  {
   "cell_type": "code",
   "execution_count": null,
   "metadata": {
    "collapsed": false
   },
   "outputs": [],
   "source": [
    "tot = sum(eig_vals)\n",
    "var_exp = [(i / tot)*100 for i in sorted(eig_vals, reverse=True)]\n",
    "cum_var_exp = np.cumsum(var_exp)\n",
    "\n",
    "with plt.style.context('seaborn-whitegrid'):\n",
    "    plt.figure(figsize=(10, 6))\n",
    "\n",
    "    plt.bar(range(33), var_exp, alpha=0.5, align='center',\n",
    "            label='individual explained variance')\n",
    "    plt.step(range(33), cum_var_exp, where='mid',\n",
    "             label='cumulative explained variance')\n",
    "    plt.ylabel('Explained variance ratio')\n",
    "    plt.xlabel('Principal components')\n",
    "    plt.legend(loc='best')\n",
    "    plt.tight_layout()"
   ]
  },
  {
   "cell_type": "markdown",
   "metadata": {},
   "source": [
    "We can see that the first 25 eigenvalues explains most of the variance. Now that we now that we want the top 25 eigenvectors, we can use the PCA function from sklearn"
   ]
  },
  {
   "cell_type": "code",
   "execution_count": null,
   "metadata": {
    "collapsed": true
   },
   "outputs": [],
   "source": [
    "matrix_w = np.hstack((eig_pairs[0][1].reshape(33,1),\n",
    "                      eig_pairs[1][1].reshape(33,1)))"
   ]
  },
  {
   "cell_type": "code",
   "execution_count": null,
   "metadata": {
    "collapsed": true
   },
   "outputs": [],
   "source": [
    "X_2 = X_std.dot(matrix_w)"
   ]
  },
  {
   "cell_type": "code",
   "execution_count": null,
   "metadata": {
    "collapsed": false
   },
   "outputs": [],
   "source": [
    "X_2.shape"
   ]
  },
  {
   "cell_type": "code",
   "execution_count": null,
   "metadata": {
    "collapsed": false
   },
   "outputs": [],
   "source": [
    "all_data.shape"
   ]
  },
  {
   "cell_type": "code",
   "execution_count": null,
   "metadata": {
    "collapsed": true
   },
   "outputs": [],
   "source": [
    "X_2 = pd.DataFrame(X_2, columns=['PCA_1', 'PCA_2'])"
   ]
  },
  {
   "cell_type": "code",
   "execution_count": null,
   "metadata": {
    "collapsed": false
   },
   "outputs": [],
   "source": [
    "X_2.head()"
   ]
  },
  {
   "cell_type": "code",
   "execution_count": null,
   "metadata": {
    "collapsed": false
   },
   "outputs": [],
   "source": [
    "all_data['PCA_1'] = X_2['PCA_1']\n",
    "all_data['PCA_2'] = X_2['PCA_2']"
   ]
  },
  {
   "cell_type": "code",
   "execution_count": null,
   "metadata": {
    "collapsed": false
   },
   "outputs": [],
   "source": [
    "all_data.head()"
   ]
  },
  {
   "cell_type": "markdown",
   "metadata": {},
   "source": [
    "## Train / Validation split"
   ]
  },
  {
   "cell_type": "code",
   "execution_count": 17,
   "metadata": {
    "collapsed": false
   },
   "outputs": [
    {
     "name": "stdout",
     "output_type": "stream",
     "text": [
      "Test `date_block_num` is 33\n"
     ]
    }
   ],
   "source": [
    "# Save `date_block_num`, as we can't use them as features, but will need them to split the dataset into parts \n",
    "dates = all_data['date_block_num']\n",
    "\n",
    "last_block = dates.max()\n",
    "print('Test `date_block_num` is %d' % last_block)"
   ]
  },
  {
   "cell_type": "code",
   "execution_count": null,
   "metadata": {
    "collapsed": true
   },
   "outputs": [],
   "source": [
    "lgb_params = {\n",
    "               'feature_fraction': 0.75,\n",
    "               'metric': 'rmse',\n",
    "               'n_jobs': -1, \n",
    "               'min_data_in_leaf': 2**7, \n",
    "               'bagging_fraction': 0.75, \n",
    "               'learning_rate': 0.03, \n",
    "               'objective': 'mse', \n",
    "               'bagging_seed': 2**7, \n",
    "               'num_leaves': 2**7,\n",
    "               'bagging_freq':1,\n",
    "               'verbose':0 \n",
    "              }\n",
    "\n",
    "model = LGBMRegressor(**lgb_params)"
   ]
  },
  {
   "cell_type": "code",
   "execution_count": 18,
   "metadata": {
    "collapsed": true
   },
   "outputs": [],
   "source": [
    "model = LGBMRegressor(n_jobs=-1, metric='rmse', objective='mse')"
   ]
  },
  {
   "cell_type": "code",
   "execution_count": null,
   "metadata": {
    "collapsed": true
   },
   "outputs": [],
   "source": [
    "model = RandomForestRegressor(n_jobs=-1)"
   ]
  },
  {
   "cell_type": "code",
   "execution_count": null,
   "metadata": {
    "collapsed": true
   },
   "outputs": [],
   "source": [
    "model = LinearRegression()"
   ]
  },
  {
   "cell_type": "markdown",
   "metadata": {},
   "source": [
    "## Target values clipping"
   ]
  },
  {
   "cell_type": "code",
   "execution_count": 19,
   "metadata": {
    "collapsed": false
   },
   "outputs": [
    {
     "data": {
      "text/plain": [
       "count    6.425094e+06\n",
       "mean     3.245825e-01\n",
       "std      3.615032e+00\n",
       "min     -5.000000e+00\n",
       "25%      0.000000e+00\n",
       "50%      0.000000e+00\n",
       "75%      0.000000e+00\n",
       "max      2.253000e+03\n",
       "Name: target, dtype: float64"
      ]
     },
     "execution_count": 19,
     "metadata": {},
     "output_type": "execute_result"
    }
   ],
   "source": [
    "all_data.target.describe()"
   ]
  },
  {
   "cell_type": "code",
   "execution_count": 20,
   "metadata": {
    "collapsed": false
   },
   "outputs": [],
   "source": [
    "# Clipping to 40 seems to improve RMSE score.\n",
    "# Tune this value to further improve score?\n",
    "all_data['target'] = all_data.target.clip(lower=-1, upper=40)"
   ]
  },
  {
   "cell_type": "code",
   "execution_count": 21,
   "metadata": {
    "collapsed": false
   },
   "outputs": [
    {
     "data": {
      "text/plain": [
       "count    6.425094e+06\n",
       "mean     2.992826e-01\n",
       "std      1.435029e+00\n",
       "min     -1.000000e+00\n",
       "25%      0.000000e+00\n",
       "50%      0.000000e+00\n",
       "75%      0.000000e+00\n",
       "max      4.000000e+01\n",
       "Name: target, dtype: float64"
      ]
     },
     "execution_count": 21,
     "metadata": {},
     "output_type": "execute_result"
    }
   ],
   "source": [
    "all_data.target.describe()"
   ]
  },
  {
   "cell_type": "code",
   "execution_count": null,
   "metadata": {
    "collapsed": false
   },
   "outputs": [],
   "source": [
    "# Moving window validation scheme.\n",
    "# On each iteration, use last month for validation\n",
    "validation_months = [33, 32, 31, 30, 29]\n",
    "\n",
    "for last_month in validation_months:\n",
    "    # Split train and validation data\n",
    "    dates_train = dates[dates <  last_month]\n",
    "    dates_test  = dates[dates == last_month]\n",
    "\n",
    "    X_train = all_data.loc[dates <  last_month].drop(to_drop_cols, axis=1)\n",
    "    X_test =  all_data.loc[dates == last_month].drop(to_drop_cols, axis=1)\n",
    "\n",
    "    y_train = all_data.loc[dates <  last_month, 'target'].values\n",
    "    y_test =  all_data.loc[dates == last_month, 'target'].values\n",
    "    \n",
    "    model.fit(X_train, y_train)\n",
    "\n",
    "    pred_train = model.predict(X_train)\n",
    "    pred_test = model.predict(X_test)\n",
    "    \n",
    "    ## R2 and RMSE score for each validation fold\n",
    "    print('Month {0:d} Test R-2: {1:f}'.format(last_month, r2_score(y_test, pred_test)))\n",
    "    print('Month {0:d} Test RMSE {1:f}'.format(last_month, np.sqrt(mean_squared_error(y_test, pred_test))))\n",
    "    \n",
    "del dates_train, dates_test, X_train, X_test, y_train, y_test, pred_train, pred_test\n",
    "gc.collect()"
   ]
  },
  {
   "cell_type": "markdown",
   "metadata": {},
   "source": [
    "## Prepare submission"
   ]
  },
  {
   "cell_type": "code",
   "execution_count": 22,
   "metadata": {
    "collapsed": false
   },
   "outputs": [],
   "source": [
    "## Take all train data\n",
    "X_train_all = all_data.drop(to_drop_cols, axis=1)\n",
    "y_train_all = all_data.target.values"
   ]
  },
  {
   "cell_type": "code",
   "execution_count": null,
   "metadata": {
    "collapsed": false
   },
   "outputs": [],
   "source": [
    "y = pd.DataFrame(y_train_all)"
   ]
  },
  {
   "cell_type": "code",
   "execution_count": null,
   "metadata": {
    "collapsed": false
   },
   "outputs": [],
   "source": [
    "y.describe()"
   ]
  },
  {
   "cell_type": "code",
   "execution_count": null,
   "metadata": {
    "collapsed": false
   },
   "outputs": [],
   "source": [
    "X_train_all.head()"
   ]
  },
  {
   "cell_type": "code",
   "execution_count": null,
   "metadata": {
    "collapsed": false
   },
   "outputs": [],
   "source": [
    "X_train_all.target_lag_1.describe()"
   ]
  },
  {
   "cell_type": "code",
   "execution_count": null,
   "metadata": {
    "collapsed": false
   },
   "outputs": [],
   "source": [
    "test.sort(columns='ID')"
   ]
  },
  {
   "cell_type": "code",
   "execution_count": 23,
   "metadata": {
    "collapsed": true
   },
   "outputs": [],
   "source": [
    "test_id = test.pop('ID')\n",
    "test.drop('date_block_num', axis=1, inplace=True)"
   ]
  },
  {
   "cell_type": "code",
   "execution_count": 24,
   "metadata": {
    "collapsed": false
   },
   "outputs": [
    {
     "data": {
      "text/html": [
       "<div>\n",
       "<table border=\"1\" class=\"dataframe\">\n",
       "  <thead>\n",
       "    <tr style=\"text-align: right;\">\n",
       "      <th></th>\n",
       "      <th>shop_id</th>\n",
       "      <th>item_id</th>\n",
       "      <th>target_lag_1</th>\n",
       "      <th>target_item_lag_1</th>\n",
       "      <th>target_shop_lag_1</th>\n",
       "      <th>target_lag_2</th>\n",
       "      <th>target_item_lag_2</th>\n",
       "      <th>target_shop_lag_2</th>\n",
       "      <th>target_lag_3</th>\n",
       "      <th>target_item_lag_3</th>\n",
       "      <th>...</th>\n",
       "      <th>target_shop_lag1_lag2</th>\n",
       "      <th>target_lag2_lag3</th>\n",
       "      <th>target_item_lag2_lag3</th>\n",
       "      <th>target_shop_lag2_lag3</th>\n",
       "      <th>target_lag3_lag4</th>\n",
       "      <th>target_item_lag3_lag4</th>\n",
       "      <th>target_shop_lag3_lag4</th>\n",
       "      <th>target_lag4_lag5</th>\n",
       "      <th>target_item_lag4_lag5</th>\n",
       "      <th>target_shop_lag4_lag5</th>\n",
       "    </tr>\n",
       "  </thead>\n",
       "  <tbody>\n",
       "    <tr>\n",
       "      <th>0</th>\n",
       "      <td>5</td>\n",
       "      <td>5037</td>\n",
       "      <td>0</td>\n",
       "      <td>25</td>\n",
       "      <td>1052</td>\n",
       "      <td>1</td>\n",
       "      <td>110</td>\n",
       "      <td>1092</td>\n",
       "      <td>3</td>\n",
       "      <td>119</td>\n",
       "      <td>...</td>\n",
       "      <td>65496</td>\n",
       "      <td>-2</td>\n",
       "      <td>-9</td>\n",
       "      <td>65334</td>\n",
       "      <td>2</td>\n",
       "      <td>65</td>\n",
       "      <td>303</td>\n",
       "      <td>0</td>\n",
       "      <td>-51</td>\n",
       "      <td>37</td>\n",
       "    </tr>\n",
       "    <tr>\n",
       "      <th>1</th>\n",
       "      <td>5</td>\n",
       "      <td>5320</td>\n",
       "      <td>0</td>\n",
       "      <td>0</td>\n",
       "      <td>0</td>\n",
       "      <td>0</td>\n",
       "      <td>0</td>\n",
       "      <td>0</td>\n",
       "      <td>0</td>\n",
       "      <td>0</td>\n",
       "      <td>...</td>\n",
       "      <td>0</td>\n",
       "      <td>0</td>\n",
       "      <td>0</td>\n",
       "      <td>0</td>\n",
       "      <td>0</td>\n",
       "      <td>0</td>\n",
       "      <td>0</td>\n",
       "      <td>0</td>\n",
       "      <td>0</td>\n",
       "      <td>0</td>\n",
       "    </tr>\n",
       "    <tr>\n",
       "      <th>2</th>\n",
       "      <td>5</td>\n",
       "      <td>5233</td>\n",
       "      <td>1</td>\n",
       "      <td>42</td>\n",
       "      <td>1052</td>\n",
       "      <td>3</td>\n",
       "      <td>80</td>\n",
       "      <td>1092</td>\n",
       "      <td>1</td>\n",
       "      <td>150</td>\n",
       "      <td>...</td>\n",
       "      <td>65496</td>\n",
       "      <td>2</td>\n",
       "      <td>-70</td>\n",
       "      <td>65334</td>\n",
       "      <td>1</td>\n",
       "      <td>113</td>\n",
       "      <td>303</td>\n",
       "      <td>-2</td>\n",
       "      <td>-82</td>\n",
       "      <td>37</td>\n",
       "    </tr>\n",
       "    <tr>\n",
       "      <th>3</th>\n",
       "      <td>5</td>\n",
       "      <td>5232</td>\n",
       "      <td>0</td>\n",
       "      <td>28</td>\n",
       "      <td>1052</td>\n",
       "      <td>0</td>\n",
       "      <td>48</td>\n",
       "      <td>1092</td>\n",
       "      <td>1</td>\n",
       "      <td>65</td>\n",
       "      <td>...</td>\n",
       "      <td>65496</td>\n",
       "      <td>-1</td>\n",
       "      <td>-17</td>\n",
       "      <td>65334</td>\n",
       "      <td>1</td>\n",
       "      <td>65</td>\n",
       "      <td>1294</td>\n",
       "      <td>0</td>\n",
       "      <td>0</td>\n",
       "      <td>0</td>\n",
       "    </tr>\n",
       "    <tr>\n",
       "      <th>4</th>\n",
       "      <td>5</td>\n",
       "      <td>5268</td>\n",
       "      <td>0</td>\n",
       "      <td>0</td>\n",
       "      <td>0</td>\n",
       "      <td>0</td>\n",
       "      <td>0</td>\n",
       "      <td>0</td>\n",
       "      <td>0</td>\n",
       "      <td>0</td>\n",
       "      <td>...</td>\n",
       "      <td>0</td>\n",
       "      <td>0</td>\n",
       "      <td>0</td>\n",
       "      <td>0</td>\n",
       "      <td>0</td>\n",
       "      <td>0</td>\n",
       "      <td>0</td>\n",
       "      <td>0</td>\n",
       "      <td>0</td>\n",
       "      <td>0</td>\n",
       "    </tr>\n",
       "  </tbody>\n",
       "</table>\n",
       "<p>5 rows × 33 columns</p>\n",
       "</div>"
      ],
      "text/plain": [
       "   shop_id  item_id  target_lag_1  target_item_lag_1  target_shop_lag_1  \\\n",
       "0        5     5037             0                 25               1052   \n",
       "1        5     5320             0                  0                  0   \n",
       "2        5     5233             1                 42               1052   \n",
       "3        5     5232             0                 28               1052   \n",
       "4        5     5268             0                  0                  0   \n",
       "\n",
       "   target_lag_2  target_item_lag_2  target_shop_lag_2  target_lag_3  \\\n",
       "0             1                110               1092             3   \n",
       "1             0                  0                  0             0   \n",
       "2             3                 80               1092             1   \n",
       "3             0                 48               1092             1   \n",
       "4             0                  0                  0             0   \n",
       "\n",
       "   target_item_lag_3          ...            target_shop_lag1_lag2  \\\n",
       "0                119          ...                            65496   \n",
       "1                  0          ...                                0   \n",
       "2                150          ...                            65496   \n",
       "3                 65          ...                            65496   \n",
       "4                  0          ...                                0   \n",
       "\n",
       "   target_lag2_lag3  target_item_lag2_lag3  target_shop_lag2_lag3  \\\n",
       "0                -2                     -9                  65334   \n",
       "1                 0                      0                      0   \n",
       "2                 2                    -70                  65334   \n",
       "3                -1                    -17                  65334   \n",
       "4                 0                      0                      0   \n",
       "\n",
       "   target_lag3_lag4  target_item_lag3_lag4  target_shop_lag3_lag4  \\\n",
       "0                 2                     65                    303   \n",
       "1                 0                      0                      0   \n",
       "2                 1                    113                    303   \n",
       "3                 1                     65                   1294   \n",
       "4                 0                      0                      0   \n",
       "\n",
       "   target_lag4_lag5  target_item_lag4_lag5  target_shop_lag4_lag5  \n",
       "0                 0                    -51                     37  \n",
       "1                 0                      0                      0  \n",
       "2                -2                    -82                     37  \n",
       "3                 0                      0                      0  \n",
       "4                 0                      0                      0  \n",
       "\n",
       "[5 rows x 33 columns]"
      ]
     },
     "execution_count": 24,
     "metadata": {},
     "output_type": "execute_result"
    }
   ],
   "source": [
    "test.head()"
   ]
  },
  {
   "cell_type": "code",
   "execution_count": 25,
   "metadata": {
    "collapsed": false
   },
   "outputs": [
    {
     "data": {
      "text/html": [
       "<div>\n",
       "<table border=\"1\" class=\"dataframe\">\n",
       "  <thead>\n",
       "    <tr style=\"text-align: right;\">\n",
       "      <th></th>\n",
       "      <th>shop_id</th>\n",
       "      <th>item_id</th>\n",
       "      <th>target_lag_1</th>\n",
       "      <th>target_item_lag_1</th>\n",
       "      <th>target_shop_lag_1</th>\n",
       "      <th>target_lag_2</th>\n",
       "      <th>target_item_lag_2</th>\n",
       "      <th>target_shop_lag_2</th>\n",
       "      <th>target_lag_3</th>\n",
       "      <th>target_item_lag_3</th>\n",
       "      <th>...</th>\n",
       "      <th>target_shop_lag1_lag2</th>\n",
       "      <th>target_lag2_lag3</th>\n",
       "      <th>target_item_lag2_lag3</th>\n",
       "      <th>target_shop_lag2_lag3</th>\n",
       "      <th>target_lag3_lag4</th>\n",
       "      <th>target_item_lag3_lag4</th>\n",
       "      <th>target_shop_lag3_lag4</th>\n",
       "      <th>target_lag4_lag5</th>\n",
       "      <th>target_item_lag4_lag5</th>\n",
       "      <th>target_shop_lag4_lag5</th>\n",
       "    </tr>\n",
       "  </thead>\n",
       "  <tbody>\n",
       "    <tr>\n",
       "      <th>4488756</th>\n",
       "      <td>2</td>\n",
       "      <td>27</td>\n",
       "      <td>0</td>\n",
       "      <td>4</td>\n",
       "      <td>1322</td>\n",
       "      <td>0</td>\n",
       "      <td>2</td>\n",
       "      <td>862</td>\n",
       "      <td>0</td>\n",
       "      <td>6</td>\n",
       "      <td>...</td>\n",
       "      <td>460</td>\n",
       "      <td>0</td>\n",
       "      <td>-4</td>\n",
       "      <td>67</td>\n",
       "      <td>0</td>\n",
       "      <td>5</td>\n",
       "      <td>65386</td>\n",
       "      <td>0</td>\n",
       "      <td>0</td>\n",
       "      <td>70</td>\n",
       "    </tr>\n",
       "    <tr>\n",
       "      <th>4488757</th>\n",
       "      <td>2</td>\n",
       "      <td>30</td>\n",
       "      <td>0</td>\n",
       "      <td>47</td>\n",
       "      <td>1322</td>\n",
       "      <td>0</td>\n",
       "      <td>46</td>\n",
       "      <td>862</td>\n",
       "      <td>0</td>\n",
       "      <td>24</td>\n",
       "      <td>...</td>\n",
       "      <td>460</td>\n",
       "      <td>0</td>\n",
       "      <td>22</td>\n",
       "      <td>67</td>\n",
       "      <td>0</td>\n",
       "      <td>11</td>\n",
       "      <td>65386</td>\n",
       "      <td>0</td>\n",
       "      <td>-6</td>\n",
       "      <td>70</td>\n",
       "    </tr>\n",
       "    <tr>\n",
       "      <th>4488758</th>\n",
       "      <td>2</td>\n",
       "      <td>31</td>\n",
       "      <td>0</td>\n",
       "      <td>25</td>\n",
       "      <td>1322</td>\n",
       "      <td>0</td>\n",
       "      <td>27</td>\n",
       "      <td>862</td>\n",
       "      <td>0</td>\n",
       "      <td>25</td>\n",
       "      <td>...</td>\n",
       "      <td>460</td>\n",
       "      <td>0</td>\n",
       "      <td>2</td>\n",
       "      <td>67</td>\n",
       "      <td>0</td>\n",
       "      <td>6</td>\n",
       "      <td>65386</td>\n",
       "      <td>0</td>\n",
       "      <td>-6</td>\n",
       "      <td>70</td>\n",
       "    </tr>\n",
       "    <tr>\n",
       "      <th>4488759</th>\n",
       "      <td>2</td>\n",
       "      <td>32</td>\n",
       "      <td>0</td>\n",
       "      <td>89</td>\n",
       "      <td>1322</td>\n",
       "      <td>0</td>\n",
       "      <td>81</td>\n",
       "      <td>862</td>\n",
       "      <td>0</td>\n",
       "      <td>58</td>\n",
       "      <td>...</td>\n",
       "      <td>460</td>\n",
       "      <td>0</td>\n",
       "      <td>23</td>\n",
       "      <td>67</td>\n",
       "      <td>0</td>\n",
       "      <td>-1</td>\n",
       "      <td>65386</td>\n",
       "      <td>0</td>\n",
       "      <td>-13</td>\n",
       "      <td>70</td>\n",
       "    </tr>\n",
       "    <tr>\n",
       "      <th>4488760</th>\n",
       "      <td>2</td>\n",
       "      <td>33</td>\n",
       "      <td>1</td>\n",
       "      <td>42</td>\n",
       "      <td>1322</td>\n",
       "      <td>2</td>\n",
       "      <td>15</td>\n",
       "      <td>862</td>\n",
       "      <td>0</td>\n",
       "      <td>33</td>\n",
       "      <td>...</td>\n",
       "      <td>460</td>\n",
       "      <td>2</td>\n",
       "      <td>-18</td>\n",
       "      <td>67</td>\n",
       "      <td>0</td>\n",
       "      <td>-10</td>\n",
       "      <td>65386</td>\n",
       "      <td>0</td>\n",
       "      <td>8</td>\n",
       "      <td>70</td>\n",
       "    </tr>\n",
       "  </tbody>\n",
       "</table>\n",
       "<p>5 rows × 33 columns</p>\n",
       "</div>"
      ],
      "text/plain": [
       "         shop_id  item_id  target_lag_1  target_item_lag_1  target_shop_lag_1  \\\n",
       "4488756        2       27             0                  4               1322   \n",
       "4488757        2       30             0                 47               1322   \n",
       "4488758        2       31             0                 25               1322   \n",
       "4488759        2       32             0                 89               1322   \n",
       "4488760        2       33             1                 42               1322   \n",
       "\n",
       "         target_lag_2  target_item_lag_2  target_shop_lag_2  target_lag_3  \\\n",
       "4488756             0                  2                862             0   \n",
       "4488757             0                 46                862             0   \n",
       "4488758             0                 27                862             0   \n",
       "4488759             0                 81                862             0   \n",
       "4488760             2                 15                862             0   \n",
       "\n",
       "         target_item_lag_3          ...            target_shop_lag1_lag2  \\\n",
       "4488756                  6          ...                              460   \n",
       "4488757                 24          ...                              460   \n",
       "4488758                 25          ...                              460   \n",
       "4488759                 58          ...                              460   \n",
       "4488760                 33          ...                              460   \n",
       "\n",
       "         target_lag2_lag3  target_item_lag2_lag3  target_shop_lag2_lag3  \\\n",
       "4488756                 0                     -4                     67   \n",
       "4488757                 0                     22                     67   \n",
       "4488758                 0                      2                     67   \n",
       "4488759                 0                     23                     67   \n",
       "4488760                 2                    -18                     67   \n",
       "\n",
       "         target_lag3_lag4  target_item_lag3_lag4  target_shop_lag3_lag4  \\\n",
       "4488756                 0                      5                  65386   \n",
       "4488757                 0                     11                  65386   \n",
       "4488758                 0                      6                  65386   \n",
       "4488759                 0                     -1                  65386   \n",
       "4488760                 0                    -10                  65386   \n",
       "\n",
       "         target_lag4_lag5  target_item_lag4_lag5  target_shop_lag4_lag5  \n",
       "4488756                 0                      0                     70  \n",
       "4488757                 0                     -6                     70  \n",
       "4488758                 0                     -6                     70  \n",
       "4488759                 0                    -13                     70  \n",
       "4488760                 0                      8                     70  \n",
       "\n",
       "[5 rows x 33 columns]"
      ]
     },
     "execution_count": 25,
     "metadata": {},
     "output_type": "execute_result"
    }
   ],
   "source": [
    "X_train_all.head()"
   ]
  },
  {
   "cell_type": "code",
   "execution_count": 26,
   "metadata": {
    "collapsed": false
   },
   "outputs": [
    {
     "name": "stdout",
     "output_type": "stream",
     "text": [
      "Train R-2: 0.381726\n",
      "Train RMSE 1.128369\n"
     ]
    }
   ],
   "source": [
    "model.fit(X_train_all, y_train_all)\n",
    "\n",
    "pred_train_all = model.predict(X_train_all)\n",
    "pred_test = model.predict(test)\n",
    "\n",
    "## R2 and RMSE score for each validation fold\n",
    "print('Train R-2: {0:f}'.format(r2_score(y_train_all, pred_train_all)))\n",
    "print('Train RMSE {0:f}'.format(np.sqrt(mean_squared_error(y_train_all, pred_train_all))))"
   ]
  },
  {
   "cell_type": "code",
   "execution_count": null,
   "metadata": {
    "collapsed": false
   },
   "outputs": [],
   "source": [
    "pred_test.shape"
   ]
  },
  {
   "cell_type": "code",
   "execution_count": 27,
   "metadata": {
    "collapsed": true
   },
   "outputs": [],
   "source": [
    "for i in range(len(pred_test)):\n",
    "    if pred_test[i] > 20:\n",
    "        pred_test[i] = 20\n",
    "    if pred_test[i] < 0:\n",
    "        pred_test[i] = 20"
   ]
  },
  {
   "cell_type": "code",
   "execution_count": 28,
   "metadata": {
    "collapsed": false
   },
   "outputs": [
    {
     "name": "stdout",
     "output_type": "stream",
     "text": [
      "(214200, 2)\n"
     ]
    },
    {
     "data": {
      "text/html": [
       "<div>\n",
       "<table border=\"1\" class=\"dataframe\">\n",
       "  <thead>\n",
       "    <tr style=\"text-align: right;\">\n",
       "      <th></th>\n",
       "      <th>ID</th>\n",
       "      <th>item_cnt_month</th>\n",
       "    </tr>\n",
       "  </thead>\n",
       "  <tbody>\n",
       "    <tr>\n",
       "      <th>0</th>\n",
       "      <td>0</td>\n",
       "      <td>0.407095</td>\n",
       "    </tr>\n",
       "    <tr>\n",
       "      <th>1</th>\n",
       "      <td>1</td>\n",
       "      <td>0.231380</td>\n",
       "    </tr>\n",
       "    <tr>\n",
       "      <th>2</th>\n",
       "      <td>2</td>\n",
       "      <td>0.647920</td>\n",
       "    </tr>\n",
       "    <tr>\n",
       "      <th>3</th>\n",
       "      <td>3</td>\n",
       "      <td>0.324343</td>\n",
       "    </tr>\n",
       "    <tr>\n",
       "      <th>4</th>\n",
       "      <td>4</td>\n",
       "      <td>2.897320</td>\n",
       "    </tr>\n",
       "  </tbody>\n",
       "</table>\n",
       "</div>"
      ],
      "text/plain": [
       "   ID  item_cnt_month\n",
       "0   0        0.407095\n",
       "1   1        0.231380\n",
       "2   2        0.647920\n",
       "3   3        0.324343\n",
       "4   4        2.897320"
      ]
     },
     "execution_count": 28,
     "metadata": {},
     "output_type": "execute_result"
    }
   ],
   "source": [
    "test_submit = pd.DataFrame({'ID': test_id, 'item_cnt_month': pred_test})\n",
    "print test_submit.shape\n",
    "test_submit.to_csv('new_lgb_Clip40_before_train.csv', index=False)\n",
    "test_submit.head()"
   ]
  },
  {
   "cell_type": "code",
   "execution_count": null,
   "metadata": {
    "collapsed": true
   },
   "outputs": [],
   "source": []
  }
 ],
 "metadata": {
  "kernelspec": {
   "display_name": "Python 2",
   "language": "python",
   "name": "python2"
  },
  "language_info": {
   "codemirror_mode": {
    "name": "ipython",
    "version": 2
   },
   "file_extension": ".py",
   "mimetype": "text/x-python",
   "name": "python",
   "nbconvert_exporter": "python",
   "pygments_lexer": "ipython2",
   "version": "2.7.13"
  }
 },
 "nbformat": 4,
 "nbformat_minor": 2
}
